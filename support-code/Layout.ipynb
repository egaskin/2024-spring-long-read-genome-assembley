{
 "cells": [
  {
   "cell_type": "code",
   "execution_count": 67,
   "id": "501dbe0e",
   "metadata": {},
   "outputs": [
    {
     "name": "stdout",
     "output_type": "stream",
     "text": [
      "['AT', 'TG', 'GT', 'GG', 'GA', 'CA', 'AG']\n"
     ]
    },
    {
     "data": {
      "text/plain": [
       "['ATG', 'ATG', 'TGT', 'TGGA', 'CAT', 'GAT', 'AGA']"
      ]
     },
     "execution_count": 67,
     "metadata": {},
     "output_type": "execute_result"
    }
   ],
   "source": [
    "import networkx as nx\n",
    "'''\n",
    "MaximalNonBranchingPaths(Graph)\n",
    "    Paths ← empty list\n",
    "    for each node v in Graph\n",
    "        if v is not a 1-in-1-out node\n",
    "            if out(v) > 0\n",
    "                for each outgoing edge (v, w) from v\n",
    "                    NonBranchingPath ← the path consisting of single edge (v, w)\n",
    "                    while w is a 1-in-1-out node\n",
    "                        extend NonBranchingPath by the edge (w, u) \n",
    "                        w ← u\n",
    "                    add NonBranchingPath to the set Paths\n",
    "    for each isolated cycle Cycle in Graph\n",
    "        add Cycle to Paths\n",
    "    return Paths\n",
    "'''\n",
    "\n",
    "def maximal_non_branching_paths(g):\n",
    "    \"\"\"Finds maximal non-branching paths in a graph.\"\"\"\n",
    "    paths = []\n",
    "    graph = nx.DiGraph(g)\n",
    "    nodes_seen = []\n",
    "    for v in g:\n",
    "        if check_1_in_1_out(g,v)!= True:\n",
    "            if len(g[v]) > 0:\n",
    "                for w in g[v]:\n",
    "                    non_branching_path = [v,w]\n",
    "                    while check_1_in_1_out(g,w):\n",
    "                        non_branching_path.append(g[w][0])\n",
    "                        w = g[w][0]\n",
    "                    for node in non_branching_path:\n",
    "                        if node not in nodes_seen:\n",
    "                            nodes_seen.append(node)\n",
    "                    paths.append(non_branching_path)\n",
    "                    \n",
    "    print(nodes_seen)               \n",
    "    cy = sorted(nx.simple_cycles(graph))\n",
    "    cycle = [c + [c[0]] for c in cy]\n",
    "    for c in cycle:\n",
    "        for nodes in nodes_seen:\n",
    "            if node not in nodes_seen:\n",
    "                nodes_seen.append(node)\n",
    "    for c in cycle:\n",
    "        seen = False\n",
    "        for node in c:\n",
    "            if node in nodes_seen:\n",
    "                seen=True\n",
    "                break\n",
    "        if seen == False:\n",
    "            paths.append(cycle)\n",
    "    return paths\n",
    "\n",
    "def check_1_in_1_out(graph,node):\n",
    "    if node not in graph:\n",
    "        return False\n",
    "    if len(graph[node]) != 1:\n",
    "        return False\n",
    "    l = []\n",
    "    for val in graph.values():\n",
    "        l+=val\n",
    "    if l.count(node) != 1:\n",
    "        return False\n",
    "    return True\n",
    "\n",
    "def check_cycle(node,graph):\n",
    "    cycle = [node]\n",
    "    cycle.append(graph[node][0])\n",
    "    node = graph[node][0]\n",
    "    if check_1_in_1_out(graph,node):\n",
    "        cycle.append(graph[node][0])\n",
    "        if cycle[0] == cycle[-1]:\n",
    "            return cycle\n",
    "        else:\n",
    "            return None\n",
    "    else:\n",
    "        return None\n",
    "    \n",
    "def de_bruijn_kmers(k_mers):\n",
    "    \"\"\"Forms the de Bruijn graph of a collection of k-mers.\"\"\"\n",
    "    graph = {}\n",
    "    for pat in k_mers:\n",
    "        if pat[:-1] not in graph:\n",
    "            graph[pat[:-1]] = [pat[1:]]\n",
    "        else:\n",
    "            graph[pat[:-1]].append(pat[1:])\n",
    "    return graph\n",
    "\n",
    "patterns = ['ATG', 'ATG', 'TGT', 'TGG' ,'CAT', 'GGA', 'GAT', 'AGA']#['GAGA','AGAG','AACG','ACGT','ACGG']\n",
    "x = maximal_non_branching_paths(de_bruijn_kmers(patterns))\n",
    "ans = []\n",
    "for xs in x:\n",
    "    st = xs[0]\n",
    "    for s in xs[1:]:\n",
    "        st += s[-1]\n",
    "    ans.append(st)\n",
    "ans"
   ]
  },
  {
   "cell_type": "code",
   "execution_count": 50,
   "id": "696654a3",
   "metadata": {},
   "outputs": [],
   "source": [
    "d = {1:[2] ,2: [3],3: [4, 5],6: [7],7: [6]}\n",
    "#d = {0:[1],1:[2],2:[3,4]}\n",
    "#d = {5:[3],3:[4],1:[2],6:[1],2:[6]}\n",
    "d = {7:[10],10:[14],14:[3,5,18],5:[4],52:[13],4:[8],8:[14],18:[19],19:[31],31:[52]}\n",
    "g = nx.DiGraph(d)"
   ]
  },
  {
   "cell_type": "code",
   "execution_count": 38,
   "id": "f2ebaa1e",
   "metadata": {},
   "outputs": [
    {
     "data": {
      "text/plain": [
       "OutEdgeView([(5, 3), (3, 4), (1, 2), (6, 1), (2, 6)])"
      ]
     },
     "execution_count": 38,
     "metadata": {},
     "output_type": "execute_result"
    }
   ],
   "source": [
    "g.edges"
   ]
  },
  {
   "cell_type": "code",
   "execution_count": 54,
   "id": "99b25d1b",
   "metadata": {},
   "outputs": [
    {
     "data": {
      "text/plain": [
       "[[8, 14, 5, 4, 8]]"
      ]
     },
     "execution_count": 54,
     "metadata": {},
     "output_type": "execute_result"
    }
   ],
   "source": [
    "cy = sorted(nx.simple_cycles(g))\n",
    "[c + [c[0]] for c in cy]"
   ]
  },
  {
   "cell_type": "code",
   "execution_count": 58,
   "id": "2143b44e",
   "metadata": {},
   "outputs": [
    {
     "name": "stdout",
     "output_type": "stream",
     "text": [
      "[7, 10, 14, 3, 5, 4, 8, 18, 19, 31, 52, 13]\n"
     ]
    },
    {
     "data": {
      "text/plain": [
       "[[7, 10, 14], [14, 3], [14, 5, 4, 8, 14], [14, 18, 19, 31, 52, 13]]"
      ]
     },
     "execution_count": 58,
     "metadata": {},
     "output_type": "execute_result"
    }
   ],
   "source": [
    "maximal_non_branching_paths(d)"
   ]
  },
  {
   "cell_type": "code",
   "execution_count": 93,
   "id": "0b1bb57b",
   "metadata": {},
   "outputs": [],
   "source": [
    "def ContigGeneration(Patterns):\n",
    "    x = maximal_non_branching_paths(de_bruijn_kmers(Patterns))\n",
    "    ans = []\n",
    "    for xs in x:\n",
    "        st = xs[0]\n",
    "        for s in xs[1:]:\n",
    "            st += s[-1]\n",
    "        ans.append(st)\n",
    "    return ans\n",
    "def maximal_non_branching_paths(g):\n",
    "    \"\"\"Finds maximal non-branching paths in a graph.\"\"\"\n",
    "    paths = []\n",
    "    graph = nx.DiGraph(g)\n",
    "    nodes_seen = []\n",
    "    for v in g:\n",
    "        if check_1_in_1_out(g,v)!= True:\n",
    "            if len(g[v]) > 0:\n",
    "                for w in g[v]:\n",
    "                    non_branching_path = [v,w]\n",
    "                    while check_1_in_1_out(g,w):\n",
    "                        non_branching_path.append(g[w][0])\n",
    "                        w = g[w][0]\n",
    "                    for node in non_branching_path:\n",
    "                        if node not in nodes_seen:\n",
    "                            nodes_seen.append(node)\n",
    "                    paths.append(non_branching_path)\n",
    "                    \n",
    "    cy = sorted(nx.simple_cycles(graph))\n",
    "    cycle = [c + [c[0]] for c in cy]\n",
    "    for c in cycle:\n",
    "        for nodes in c:\n",
    "            if node not in nodes_seen:\n",
    "                nodes_seen.append(node)\n",
    "        seen = False\n",
    "        for node in c:\n",
    "            if node in nodes_seen:\n",
    "                seen=True\n",
    "                break\n",
    "        if seen == False:\n",
    "            paths.append(c)\n",
    "    return paths\n",
    "\n",
    "\n",
    "def check_1_in_1_out(graph,node):\n",
    "    if node not in graph:\n",
    "        return False\n",
    "    if len(graph[node]) != 1:\n",
    "        return False\n",
    "    l = []\n",
    "    for val in graph.values():\n",
    "        l+=val\n",
    "    if l.count(node) != 1:\n",
    "        return False\n",
    "    return True\n",
    "\n",
    "\n",
    "def de_bruijn_kmers(k_mers):\n",
    "    \"\"\"Forms the de Bruijn graph of a collection of k-mers.\"\"\"\n",
    "    graph = {}\n",
    "    for pat in k_mers:\n",
    "        if pat[:-1] not in graph:\n",
    "            graph[pat[:-1]] = [pat[1:]]\n",
    "        else:\n",
    "            graph[pat[:-1]].append(pat[1:])\n",
    "    return graph"
   ]
  },
  {
   "cell_type": "code",
   "execution_count": 77,
   "id": "18dcbf86",
   "metadata": {},
   "outputs": [
    {
     "data": {
      "text/plain": [
       "['AACG', 'ACGT', 'ACGG', 'AGAGA']"
      ]
     },
     "execution_count": 77,
     "metadata": {},
     "output_type": "execute_result"
    }
   ],
   "source": [
    "patterns = ['GAGA','AGAG','AACG','ACGT','ACGG']\n",
    "ContigGeneration(patterns)\n",
    "# d = de_bruijn_kmers(patterns)\n",
    "# cy = sorted(nx.simple_cycles(nx.DiGraph(d)))\n",
    "# cy"
   ]
  },
  {
   "cell_type": "code",
   "execution_count": 73,
   "id": "51e99f2d",
   "metadata": {},
   "outputs": [
    {
     "data": {
      "text/plain": [
       "['AGA', 'GAG', 'AGA']"
      ]
     },
     "execution_count": 73,
     "metadata": {},
     "output_type": "execute_result"
    }
   ],
   "source": [
    "ans = []\n",
    "for xs in ['AGA', 'GAG', 'AGA']:\n",
    "    st = xs[0]\n",
    "    for s in xs[1:]:\n",
    "        st += s[-1]\n",
    "    ans.append(st)\n",
    "ans"
   ]
  },
  {
   "cell_type": "code",
   "execution_count": 76,
   "id": "e137aa91",
   "metadata": {},
   "outputs": [
    {
     "data": {
      "text/plain": [
       "[['AAC', 'ACG'], ['ACG', 'CGT'], ['ACG', 'CGG'], ['AGA', 'GAG', 'AGA']]"
      ]
     },
     "execution_count": 76,
     "metadata": {},
     "output_type": "execute_result"
    }
   ],
   "source": [
    "maximal_non_branching_paths(de_bruijn_kmers(patterns))"
   ]
  },
  {
   "cell_type": "code",
   "execution_count": 80,
   "id": "20915820",
   "metadata": {},
   "outputs": [
    {
     "data": {
      "text/plain": [
       "[[7, 10, 14], [14, 3], [14, 5, 4, 8, 14], [14, 18, 19, 31, 52, 13]]"
      ]
     },
     "execution_count": 80,
     "metadata": {},
     "output_type": "execute_result"
    }
   ],
   "source": [
    "ad = nx.to_dict_of_lists(g)\n",
    "maximal_non_branching_paths(ad)"
   ]
  },
  {
   "cell_type": "code",
   "execution_count": 94,
   "id": "d6f552c1",
   "metadata": {},
   "outputs": [
    {
     "data": {
      "text/plain": [
       "OutEdgeView([(1, 2), (2, 3), (3, 4), (4, 5), (4, 17), (5, 6), (5, 17), (5, 18), (6, 18), (6, 7), (6, 19), (7, 8), (7, 19), (7, 20), (8, 9), (9, 10), (10, 11), (11, 12), (12, 13), (13, 14), (14, 15), (16, 5), (16, 17), (17, 6), (17, 18), (18, 7), (18, 19), (19, 20), (19, 8), (20, 21), (21, 22)])"
      ]
     },
     "execution_count": 94,
     "metadata": {},
     "output_type": "execute_result"
    }
   ],
   "source": [
    "#TEST_CASE\n",
    "edges = {1:[2],2:[3],3:[4],4:[5,17],5:[6,17,18],6:[18, 7, 19],\n",
    "         7:[8,19,20],8:[9],9:[10],10:[11],11:[12],12:[13],13:[14],\n",
    "         14:[15],16:[5,17],17:[6,18],18:[7,19],19:[20,8],20:[21],21:[22]}\n",
    "G = nx.DiGraph(edges)\n",
    "G.edges"
   ]
  },
  {
   "cell_type": "code",
   "execution_count": 95,
   "id": "f7d98bb3",
   "metadata": {},
   "outputs": [
    {
     "data": {
      "text/plain": [
       "OutEdgeView([(1, 2), (2, 3), (3, 4), (4, 5), (5, 17), (6, 18), (7, 19), (8, 9), (9, 10), (10, 11), (11, 12), (12, 13), (13, 14), (14, 15), (16, 5), (17, 6), (18, 7), (19, 8), (19, 20), (20, 21), (21, 22)])"
      ]
     },
     "execution_count": 95,
     "metadata": {},
     "output_type": "execute_result"
    }
   ],
   "source": [
    "G_new = nx.transitive_reduction(G)\n",
    "G_new.edges\n"
   ]
  },
  {
   "cell_type": "code",
   "execution_count": 96,
   "id": "c8dd823e",
   "metadata": {},
   "outputs": [
    {
     "data": {
      "text/plain": [
       "[[1, 2, 3, 4, 5],\n",
       " [5, 17, 6, 18, 7, 19],\n",
       " [16, 5],\n",
       " [19, 8, 9, 10, 11, 12, 13, 14, 15],\n",
       " [19, 20, 21, 22]]"
      ]
     },
     "execution_count": 96,
     "metadata": {},
     "output_type": "execute_result"
    }
   ],
   "source": [
    "dict_edge_list = nx.to_dict_of_lists(G_new)\n",
    "maximal_non_branching_paths(dict_edge_list)"
   ]
  },
  {
   "cell_type": "code",
   "execution_count": 85,
   "id": "ef3cb014",
   "metadata": {},
   "outputs": [
    {
     "name": "stdout",
     "output_type": "stream",
     "text": [
      "[('GATTA', 'TTACA'), ('GATTA', 'ATTAC'), ('ATTAC', 'TTACA'), ('ATTAC', 'TACAC'), ('TTACA', 'TACAC'), ('TTACA', 'ACACA'), ('TTACA', 'ACACG'), ('TACAC', 'CACAC'), ('TACAC', 'ACACA'), ('ACACA', 'CACAC'), ('ACACA', 'ACACG'), ('CACAC', 'ACACA'), ('CACAC', 'CACGG'), ('CACAC', 'ACACG'), ('ACACG', 'CACGG')]\n",
      "\n"
     ]
    },
    {
     "ename": "NetworkXError",
     "evalue": "Directed Acyclic Graph required for transitive_reduction",
     "output_type": "error",
     "traceback": [
      "\u001b[0;31m---------------------------------------------------------------------------\u001b[0m",
      "\u001b[0;31mNetworkXError\u001b[0m                             Traceback (most recent call last)",
      "\u001b[0;32m/tmp/ipykernel_92/2668288656.py\u001b[0m in \u001b[0;36m<module>\u001b[0;34m\u001b[0m\n\u001b[1;32m      5\u001b[0m \u001b[0mprint\u001b[0m\u001b[0;34m(\u001b[0m\u001b[0mG\u001b[0m\u001b[0;34m.\u001b[0m\u001b[0medges\u001b[0m\u001b[0;34m)\u001b[0m\u001b[0;34m\u001b[0m\u001b[0;34m\u001b[0m\u001b[0m\n\u001b[1;32m      6\u001b[0m \u001b[0mprint\u001b[0m\u001b[0;34m(\u001b[0m\u001b[0;34m)\u001b[0m\u001b[0;34m\u001b[0m\u001b[0;34m\u001b[0m\u001b[0m\n\u001b[0;32m----> 7\u001b[0;31m \u001b[0mG_new\u001b[0m \u001b[0;34m=\u001b[0m \u001b[0mnx\u001b[0m\u001b[0;34m.\u001b[0m\u001b[0mtransitive_reduction\u001b[0m\u001b[0;34m(\u001b[0m\u001b[0mG\u001b[0m\u001b[0;34m)\u001b[0m\u001b[0;34m\u001b[0m\u001b[0;34m\u001b[0m\u001b[0m\n\u001b[0m\u001b[1;32m      8\u001b[0m \u001b[0mprint\u001b[0m\u001b[0;34m(\u001b[0m\u001b[0mG_new\u001b[0m\u001b[0;34m.\u001b[0m\u001b[0medges\u001b[0m\u001b[0;34m)\u001b[0m\u001b[0;34m\u001b[0m\u001b[0;34m\u001b[0m\u001b[0m\n",
      "\u001b[0;32m~/anaconda3/lib/python3.9/site-packages/networkx/utils/decorators.py\u001b[0m in \u001b[0;36margmap_transitive_reduction_13\u001b[0;34m(G)\u001b[0m\n\u001b[1;32m      2\u001b[0m \u001b[0;32mimport\u001b[0m \u001b[0mcollections\u001b[0m\u001b[0;34m\u001b[0m\u001b[0;34m\u001b[0m\u001b[0m\n\u001b[1;32m      3\u001b[0m \u001b[0;32mimport\u001b[0m \u001b[0mgzip\u001b[0m\u001b[0;34m\u001b[0m\u001b[0;34m\u001b[0m\u001b[0m\n\u001b[0;32m----> 4\u001b[0;31m \u001b[0;32mimport\u001b[0m \u001b[0minspect\u001b[0m\u001b[0;34m\u001b[0m\u001b[0;34m\u001b[0m\u001b[0m\n\u001b[0m\u001b[1;32m      5\u001b[0m \u001b[0;32mimport\u001b[0m \u001b[0mitertools\u001b[0m\u001b[0;34m\u001b[0m\u001b[0;34m\u001b[0m\u001b[0m\n\u001b[1;32m      6\u001b[0m \u001b[0;32mimport\u001b[0m \u001b[0mre\u001b[0m\u001b[0;34m\u001b[0m\u001b[0;34m\u001b[0m\u001b[0m\n",
      "\u001b[0;32m~/anaconda3/lib/python3.9/site-packages/networkx/algorithms/dag.py\u001b[0m in \u001b[0;36mtransitive_reduction\u001b[0;34m(G)\u001b[0m\n\u001b[1;32m    801\u001b[0m     \u001b[0;32mif\u001b[0m \u001b[0;32mnot\u001b[0m \u001b[0mis_directed_acyclic_graph\u001b[0m\u001b[0;34m(\u001b[0m\u001b[0mG\u001b[0m\u001b[0;34m)\u001b[0m\u001b[0;34m:\u001b[0m\u001b[0;34m\u001b[0m\u001b[0;34m\u001b[0m\u001b[0m\n\u001b[1;32m    802\u001b[0m         \u001b[0mmsg\u001b[0m \u001b[0;34m=\u001b[0m \u001b[0;34m\"Directed Acyclic Graph required for transitive_reduction\"\u001b[0m\u001b[0;34m\u001b[0m\u001b[0;34m\u001b[0m\u001b[0m\n\u001b[0;32m--> 803\u001b[0;31m         \u001b[0;32mraise\u001b[0m \u001b[0mnx\u001b[0m\u001b[0;34m.\u001b[0m\u001b[0mNetworkXError\u001b[0m\u001b[0;34m(\u001b[0m\u001b[0mmsg\u001b[0m\u001b[0;34m)\u001b[0m\u001b[0;34m\u001b[0m\u001b[0;34m\u001b[0m\u001b[0m\n\u001b[0m\u001b[1;32m    804\u001b[0m     \u001b[0mTR\u001b[0m \u001b[0;34m=\u001b[0m \u001b[0mnx\u001b[0m\u001b[0;34m.\u001b[0m\u001b[0mDiGraph\u001b[0m\u001b[0;34m(\u001b[0m\u001b[0;34m)\u001b[0m\u001b[0;34m\u001b[0m\u001b[0;34m\u001b[0m\u001b[0m\n\u001b[1;32m    805\u001b[0m     \u001b[0mTR\u001b[0m\u001b[0;34m.\u001b[0m\u001b[0madd_nodes_from\u001b[0m\u001b[0;34m(\u001b[0m\u001b[0mG\u001b[0m\u001b[0;34m.\u001b[0m\u001b[0mnodes\u001b[0m\u001b[0;34m(\u001b[0m\u001b[0;34m)\u001b[0m\u001b[0;34m)\u001b[0m\u001b[0;34m\u001b[0m\u001b[0;34m\u001b[0m\u001b[0m\n",
      "\u001b[0;31mNetworkXError\u001b[0m: Directed Acyclic Graph required for transitive_reduction"
     ]
    }
   ],
   "source": [
    "#TEST CASE\n",
    "edges = {'GATTA':['TTACA','ATTAC'],'ATTAC':['TTACA','TACAC'],'TTACA':['TACAC','ACACA','ACACG'],'TACAC':['CACAC','ACACA'],\n",
    "         'ACACA':['CACAC','ACACG'],'CACAC':['ACACA','CACGG','ACACG'],'ACACG':['CACGG']}\n",
    "G = nx.DiGraph(edges)\n",
    "print(G.edges)\n",
    "print()\n",
    "G_new = nx.transitive_reduction(G)\n",
    "print(G_new.edges)"
   ]
  },
  {
   "cell_type": "code",
   "execution_count": 89,
   "id": "c1dcbe2f",
   "metadata": {},
   "outputs": [
    {
     "name": "stdout",
     "output_type": "stream",
     "text": [
      "[('GATTA', 'ATTAC'), ('ATTAC', 'TTACA'), ('TTACA', 'ACACG'), ('TTACA', 'TACAC'), ('ACACG', 'CACGG')]\n"
     ]
    }
   ],
   "source": [
    "# Step 1: Find all cycles in the graph\n",
    "cycles = list(nx.simple_cycles(G))\n",
    "\n",
    "# Step 2: Identify nodes that belong to cycles\n",
    "nodes_in_cycles = set()\n",
    "for cycle in cycles:\n",
    "    nodes_in_cycles.update(cycle)\n",
    "\n",
    "# Step 3: Remove nodes that belong to cycles\n",
    "for node in nodes_in_cycles:\n",
    "    G.remove_node(node)\n",
    "G_new = nx.transitive_reduction(G)\n",
    "print(G_new.edges)"
   ]
  },
  {
   "cell_type": "code",
   "execution_count": 92,
   "id": "461e5ecd",
   "metadata": {},
   "outputs": [
    {
     "data": {
      "text/plain": [
       "[['GATTA', 'ATTAC', 'TTACA'], ['TTACA', 'ACACG', 'CACGG'], ['TTACA', 'TACAC']]"
      ]
     },
     "execution_count": 92,
     "metadata": {},
     "output_type": "execute_result"
    }
   ],
   "source": [
    "dict_edge_list = nx.to_dict_of_lists(G_new)\n",
    "maximal_non_branching_paths(dict_edge_list)"
   ]
  },
  {
   "cell_type": "code",
   "execution_count": null,
   "id": "84d4e1b2",
   "metadata": {},
   "outputs": [],
   "source": []
  }
 ],
 "metadata": {
  "kernelspec": {
   "display_name": "Python 3 (ipykernel)",
   "language": "python",
   "name": "python3"
  },
  "language_info": {
   "codemirror_mode": {
    "name": "ipython",
    "version": 3
   },
   "file_extension": ".py",
   "mimetype": "text/x-python",
   "name": "python",
   "nbconvert_exporter": "python",
   "pygments_lexer": "ipython3",
   "version": "3.9.13"
  }
 },
 "nbformat": 4,
 "nbformat_minor": 5
}
