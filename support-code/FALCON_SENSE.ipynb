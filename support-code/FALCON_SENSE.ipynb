{
 "cells": [
  {
   "cell_type": "code",
   "execution_count": 1,
   "id": "b19ea451",
   "metadata": {},
   "outputs": [],
   "source": [
    "import numpy as np\n",
    "def Fitting_Back_track(v,w,gap,match,mismatch):\n",
    "    n = len(v)\n",
    "    m = len(w)\n",
    "    s = np.zeros((n+1,m+1))\n",
    "    for i in range(1,len(s[0])):\n",
    "        s[0][i] = s[0][i-1] - gap\n",
    "\n",
    "    Backtrack = [[0 for _ in range(m+1)] for _ in range(n+1)]\n",
    "    for i in range(1,n+1):\n",
    "        for j in range(1,m+1):\n",
    "            if v[i-1] == w[j-1]:\n",
    "                score = match\n",
    "            else:\n",
    "                score = -mismatch\n",
    "            options = [s[i-1][j] - gap,s[i][j-1] - gap,s[i-1][j-1]+score]\n",
    "            s[i][j] = max(options)\n",
    "            if s[i][j] == s[i-1][j] - gap:\n",
    "                Backtrack[i][j] = '↓'\n",
    "            elif s[i][j] == s[i][j-1] - gap:\n",
    "                Backtrack[i][j] = '→'\n",
    "            elif s[i][j] == (s[i-1][j-1]+ score):\n",
    "                Backtrack[i][j] = '↘'\n",
    "    return Backtrack,s  \n",
    "def Output_Fitting(backtrack,s, v, w, i, j, a1, a2):\n",
    "    if s[i][j] == 0:\n",
    "        return a1[::-1], a2[::-1]  \n",
    "    \n",
    "    if backtrack[i][j] == \"↓\":\n",
    "        return Output_Fitting(backtrack,s, v, w, i - 1, j, a1 + v[i-1], a2 + '-')\n",
    "    elif backtrack[i][j] == \"→\":\n",
    "        return Output_Fitting(backtrack,s, v, w, i, j - 1, a1 + '-', a2 + w[j-1])\n",
    "    else:\n",
    "        return Output_Fitting(backtrack,s, v, w, i - 1, j - 1, a1 + v[i-1], a2 + w[j-1])\n",
    "    \n",
    "\n",
    "def find_max_fitting(backtrack):\n",
    "    maximum = 0\n",
    "    max_i = 0\n",
    "    j = len(backtrack[0])-1\n",
    "    for i in range(len(backtrack)):\n",
    "        if backtrack[i][j] > maximum:\n",
    "            maximum = backtrack[i][j]\n",
    "            max_i = i\n",
    "    return maximum,max_i,j\n",
    "# find_max_fitting(Fitting_Back_track(a,b)[1])\n",
    "\n",
    "def FittingAlignment(s: str, t: str,\n",
    "                     match,mismatch, indel_penalty) -> [int, str, str]:\n",
    "    b,score_mat = Fitting_Back_track(s,t,indel_penalty,match,mismatch)\n",
    "    score,max_i,max_j = find_max_fitting(score_mat)\n",
    "    a1,a2 = Output_Fitting(b,score_mat,s,t,max_i,max_j,'','')\n",
    "    st = ''.join([l for l in a1 if l != '-'])\n",
    "    for i in range(len(s)-len(st)+1):\n",
    "        if s[i:i+len(st)] == st:\n",
    "            index = i+1\n",
    "            break\n",
    "    return (a1,a2,index)"
   ]
  },
  {
   "cell_type": "code",
   "execution_count": 26,
   "id": "f3c86569",
   "metadata": {},
   "outputs": [
    {
     "data": {
      "text/plain": [
       "[('TAAAG-TA', 'TAA-GC-A', 1),\n",
       " ('AGT-AG', 'AGTCAG', 4),\n",
       " ('GT-AG', 'GTCAG', 5),\n",
       " ('TAAAGTAG', 'TAA--TAG', 1)]"
      ]
     },
     "execution_count": 26,
     "metadata": {},
     "output_type": "execute_result"
    }
   ],
   "source": [
    "template = 'TAAAGTAG'\n",
    "reads = [\"TAAGCA\",\"AGTCAG\",\"GTCAG\",\"TAATAG\"]\n",
    "aligned_reads = []\n",
    "for read in reads:\n",
    "    aligned_reads.append(FittingAlignment(template,read,2,1000,1))\n",
    "aligned_reads"
   ]
  },
  {
   "cell_type": "code",
   "execution_count": 27,
   "id": "1de2c80e",
   "metadata": {},
   "outputs": [],
   "source": [
    "aligned_reads[0] = ('TAAAGT-A','TAA-G-CA',1)"
   ]
  },
  {
   "cell_type": "code",
   "execution_count": 36,
   "id": "82e09bb9",
   "metadata": {},
   "outputs": [],
   "source": [
    "'''\n",
    "Algorithm FalconSense\n",
    "Require: A set of reads R that are aligned on the template S\n",
    "Ensure: A corrected sequence for S based on the consensus of the reads in\n",
    "R\n",
    "1: for every read R ∈ R do\n",
    "2: Compute the alignment A between R and S allowing matches or indels\n",
    "(no mismatches);\n",
    "3: for each aligned position in A do\n",
    "4: If it is a match aligning S[j] with R[i], add tuple (j, 0, R[i]);\n",
    "5: If it is a deletion aligning S[j] with −, add tuple (j, 0, −);\n",
    "6: If it is an insertion aligning − with R[i], suppose this is the dth\n",
    "insertion after S[j]; add tuple (j, d, R[i]);\n",
    "7: end for\n",
    "8: end for\n",
    "\n",
    "9: For each distinct tuple (p, d, b), let count(p, d, b) be the number of oc-\n",
    "currences of the tuple in the list.\n",
    "\n",
    "10: Sort all distinct tuples (p, d, b) by increasing order of p, d and followed\n",
    "by the alphabetic order of b;\n",
    "11: for each distinct tuple (p, d, b) in sorted order do\n",
    "12: if count(p, d, b) > 1\n",
    "\n",
    "2 x∈{A,C,G,T,−} count(p, 0, x) then\n",
    "\n",
    "13: Output b;\n",
    "14: else\n",
    "15: Output −;\n",
    "16: end if\n",
    "17: end for\n",
    "'''\n",
    "def FalconSense(aligned_reads):\n",
    "    consensus_dict = {}\n",
    "    for read in aligned_reads:\n",
    "        p = read[2] - 1\n",
    "        d = 0\n",
    "        for i in range(len(read[0])):\n",
    "            if read[0][i] != \"-\":\n",
    "                p += 1\n",
    "                d = 0\n",
    "            else:\n",
    "                d += 1\n",
    "            curr_tuple = (p, d, read[1][i])\n",
    "            if curr_tuple in consensus_dict:\n",
    "                consensus_dict[curr_tuple] +=1\n",
    "            else:\n",
    "                consensus_dict[curr_tuple] = 1\n",
    "                \n",
    "    consensus_data = sorted(consensus_dict.items(), key=lambda x: (x[0][0], x[0][1]))\n",
    "\n",
    "    consensus_dict = {k: v for k, v in consensus_data}\n",
    "    options = ['A','C','G','T','-']\n",
    "    consensus_string = ''\n",
    "    for tup,count in consensus_dict.items():\n",
    "        if tup[2] != '-':\n",
    "            counts = sum(consensus_dict[(tup[0],0,x)] for x in options if (tup[0],0,x) in consensus_dict)\n",
    "            if count > counts/2:\n",
    "                consensus_string += tup[2]\n",
    "            else:\n",
    "                consensus_string += '-'\n",
    "    return consensus_dict,consensus_string"
   ]
  },
  {
   "cell_type": "code",
   "execution_count": 37,
   "id": "8268097c",
   "metadata": {},
   "outputs": [
    {
     "data": {
      "text/plain": [
       "({(1, 0, 'T'): 2,\n",
       "  (2, 0, 'A'): 2,\n",
       "  (3, 0, 'A'): 2,\n",
       "  (4, 0, '-'): 2,\n",
       "  (4, 0, 'A'): 1,\n",
       "  (5, 0, 'G'): 3,\n",
       "  (5, 0, '-'): 1,\n",
       "  (6, 0, '-'): 1,\n",
       "  (6, 0, 'T'): 3,\n",
       "  (6, 1, 'C'): 3,\n",
       "  (7, 0, 'A'): 4,\n",
       "  (8, 0, 'G'): 3},\n",
       " 'TAA-GTCAG')"
      ]
     },
     "execution_count": 37,
     "metadata": {},
     "output_type": "execute_result"
    }
   ],
   "source": [
    "FalconSense(aligned_reads)"
   ]
  },
  {
   "cell_type": "code",
   "execution_count": null,
   "id": "9ce49e12",
   "metadata": {},
   "outputs": [],
   "source": []
  }
 ],
 "metadata": {
  "kernelspec": {
   "display_name": "Python 3 (ipykernel)",
   "language": "python",
   "name": "python3"
  },
  "language_info": {
   "codemirror_mode": {
    "name": "ipython",
    "version": 3
   },
   "file_extension": ".py",
   "mimetype": "text/x-python",
   "name": "python",
   "nbconvert_exporter": "python",
   "pygments_lexer": "ipython3",
   "version": "3.9.13"
  }
 },
 "nbformat": 4,
 "nbformat_minor": 5
}
